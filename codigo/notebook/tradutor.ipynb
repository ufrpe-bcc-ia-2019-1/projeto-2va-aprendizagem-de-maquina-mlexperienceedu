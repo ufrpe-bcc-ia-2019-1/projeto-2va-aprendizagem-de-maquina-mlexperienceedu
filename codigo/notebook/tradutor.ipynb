{
  "nbformat": 4,
  "nbformat_minor": 0,
  "metadata": {
    "colab": {
      "name": "tradutor.ipynb",
      "provenance": [],
      "collapsed_sections": [],
      "toc_visible": true
    },
    "kernelspec": {
      "name": "python2",
      "display_name": "Python 2"
    },
    "accelerator": "GPU"
  },
  "cells": [
    {
      "cell_type": "markdown",
      "metadata": {
        "id": "GA1d_4jcNA-7",
        "colab_type": "text"
      },
      "source": [
        "##Download do texto"
      ]
    },
    {
      "cell_type": "code",
      "metadata": {
        "id": "hfBn1mGAf1Nr",
        "colab_type": "code",
        "outputId": "fe6b6fc6-8533-4b92-f9d1-2a66b12a9806",
        "colab": {
          "base_uri": "https://localhost:8080/",
          "height": 34
        }
      },
      "source": [
        "from google.colab import drive\n",
        "drive.mount('/content/drive/')\n",
        "\n",
        "!cp \"/content/drive/My Drive/IA/tu-pt.txt\" \"tu-pt.txt\"\n",
        "!cp \"/content/drive/My Drive/IA/ka-pt.txt\" \"ka-pt.txt\"\n"
      ],
      "execution_count": 0,
      "outputs": [
        {
          "output_type": "stream",
          "text": [
            "Drive already mounted at /content/drive/; to attempt to forcibly remount, call drive.mount(\"/content/drive/\", force_remount=True).\n"
          ],
          "name": "stdout"
        }
      ]
    },
    {
      "cell_type": "markdown",
      "metadata": {
        "id": "z0OS9cZDB0Yc",
        "colab_type": "text"
      },
      "source": [
        "### Usando a classificação com o tensorflow"
      ]
    },
    {
      "cell_type": "code",
      "metadata": {
        "id": "mlf1OXPUB6-u",
        "colab_type": "code",
        "outputId": "f4b872f3-d50d-4417-b9e7-c56894f9138e",
        "colab": {
          "base_uri": "https://localhost:8080/",
          "height": 68
        }
      },
      "source": [
        "from __future__ import absolute_import, division, print_function, unicode_literals\n",
        "\n",
        "!pip install -q tensorflow-gpu==2.0.0-beta1\n",
        "import tensorflow as tf\n",
        "\n",
        "import matplotlib.pyplot as plt\n",
        "from sklearn.model_selection import train_test_split\n",
        "\n",
        "import unicodedata\n",
        "import re\n",
        "import numpy as np\n",
        "import os\n",
        "import io\n",
        "import time"
      ],
      "execution_count": 1,
      "outputs": [
        {
          "output_type": "stream",
          "text": [
            "\u001b[K     |████████████████████████████████| 348.9MB 44kB/s \n",
            "\u001b[K     |████████████████████████████████| 501kB 65.4MB/s \n",
            "\u001b[K     |████████████████████████████████| 3.1MB 65.4MB/s \n",
            "\u001b[?25h"
          ],
          "name": "stdout"
        }
      ]
    },
    {
      "cell_type": "code",
      "metadata": {
        "id": "Ae0gbLuiBpcW",
        "colab_type": "code",
        "colab": {}
      },
      "source": [
        "# Converts the unicode file to ascii\n",
        "def unicode_to_ascii(s):\n",
        "   return ''.join(c for c in unicodedata.normalize('NFD', s)\n",
        "        if unicodedata.category(c) != 'Mn')\n",
        "\n",
        "\n",
        "def preprocess_sentence(w):\n",
        "    w = unicode_to_ascii(w.lower().strip())\n",
        "\n",
        "    # creating a space between a word and the punctuation following it\n",
        "    # eg: \"he is a boy.\" => \"he is a boy .\"\n",
        "    # Reference:- https://stackoverflow.com/questions/3645931/python-padding-punctuation-with-white-spaces-keeping-punctuation\n",
        "    w = re.sub(r\"([?.!,¿])\", r\" \\1 \", w)\n",
        "    w = re.sub(r'[\" \"]+', \" \", w)\n",
        "\n",
        "    # replacing everything with space except (a-z, A-Z, \".\", \"?\", \"!\", \",\")\n",
        "    w = re.sub(r\"[^a-zA-Z?.!,¿]+\", \" \", w)\n",
        "\n",
        "    w = w.rstrip().strip()\n",
        "\n",
        "    # adding a start and an end token to the sentence\n",
        "    # so that the model know when to start and stop predicting.\n",
        "    w = '<start> ' + w + ' <end>'\n",
        "    return w"
      ],
      "execution_count": 0,
      "outputs": []
    },
    {
      "cell_type": "code",
      "metadata": {
        "id": "dx6HNol-CaqN",
        "colab_type": "code",
        "colab": {}
      },
      "source": [
        "def create_dataset(path, num_examples):\n",
        "    lines = io.open(path, encoding='UTF-8').read().strip().split('\\n')\n",
        "   \n",
        "    word_pairs = []\n",
        "    \n",
        "    word_pairs = [[preprocess_sentence(w) for w in l.split('\\t')]  for l in lines[:num_examples]]\n",
        "  \n",
        "    return zip(*word_pairs)"
      ],
      "execution_count": 0,
      "outputs": []
    },
    {
      "cell_type": "code",
      "metadata": {
        "id": "nkNKOQzoZUrc",
        "colab_type": "code",
        "outputId": "00c119ca-fd9c-4005-9220-1aa2b30e89b8",
        "colab": {
          "base_uri": "https://localhost:8080/",
          "height": 71
        }
      },
      "source": [
        "gu, pt = create_dataset('Guarani-Português.txt', 3)\n",
        "\n",
        "print(pt[-1])\n",
        "print(gu[-1])"
      ],
      "execution_count": 4,
      "outputs": [
        {
          "output_type": "stream",
          "text": [
            "<start> felizes sao voces quando os insultam , perseguem e dizem todo tipo de calunia contra voces por serem meus seguidores . <end>\n",
            "<start> cusa yvy re aexa oguy py ikuai va e ojexavai ra , ha e midia yvy re ijaty va e kuery oryryipa . <end>\n"
          ],
          "name": "stdout"
        }
      ]
    },
    {
      "cell_type": "code",
      "metadata": {
        "id": "bjwX7skkCePU",
        "colab_type": "code",
        "colab": {}
      },
      "source": [
        "def max_length(tensor):\n",
        "    return max(len(t) for t in tensor)"
      ],
      "execution_count": 0,
      "outputs": []
    },
    {
      "cell_type": "code",
      "metadata": {
        "id": "lhvHJAd-ChrU",
        "colab_type": "code",
        "colab": {}
      },
      "source": [
        "def tokenize(lang):\n",
        "  lang_tokenizer = tf.keras.preprocessing.text.Tokenizer(\n",
        "      filters='')\n",
        "  lang_tokenizer.fit_on_texts(lang)\n",
        "\n",
        "  tensor = lang_tokenizer.texts_to_sequences(lang)\n",
        "\n",
        "  tensor = tf.keras.preprocessing.sequence.pad_sequences(tensor,\n",
        "                                                         padding='post')\n",
        "\n",
        "  return tensor, lang_tokenizer"
      ],
      "execution_count": 0,
      "outputs": []
    },
    {
      "cell_type": "code",
      "metadata": {
        "id": "hBaYF9-dCmcc",
        "colab_type": "code",
        "colab": {}
      },
      "source": [
        "def load_dataset(path, num_examples=None):\n",
        "    # creating cleaned input, output pairs\n",
        "    targ_lang, inp_lang = create_dataset(path, num_examples)\n",
        "\n",
        "    input_tensor, inp_lang_tokenizer = tokenize(inp_lang)\n",
        "    target_tensor, targ_lang_tokenizer = tokenize(targ_lang)\n",
        "\n",
        "    return input_tensor, target_tensor, inp_lang_tokenizer, targ_lang_tokenizer"
      ],
      "execution_count": 0,
      "outputs": []
    },
    {
      "cell_type": "markdown",
      "metadata": {
        "id": "UJrScr3a_r-D",
        "colab_type": "text"
      },
      "source": [
        "### Variando o número de exemplos para treino e teste\n",
        "\n",
        "Usaremos a divisão na forma 80-20 onde 80% são para treino e 20% para teste começando com 250 até 1500 (limite da nossa gpu)."
      ]
    },
    {
      "cell_type": "code",
      "metadata": {
        "id": "_6zRUTJwC-50",
        "colab_type": "code",
        "colab": {}
      },
      "source": [
        "trial = 1\n",
        "# Try experimenting with the size of that dataset\n",
        "num_examples = 1500\n",
        "input_tensor, target_tensor, inp_lang, targ_lang = load_dataset('Guarani-Português.txt', num_examples)\n",
        "\n",
        "# Calculate max_length of the target tensors\n",
        "max_length_targ, max_length_inp = max_length(target_tensor), max_length(input_tensor)"
      ],
      "execution_count": 0,
      "outputs": []
    },
    {
      "cell_type": "code",
      "metadata": {
        "id": "YFKBwi8HDDQn",
        "colab_type": "code",
        "outputId": "7d412213-fc27-4081-a610-b8b1246a61e4",
        "colab": {
          "base_uri": "https://localhost:8080/",
          "height": 34
        }
      },
      "source": [
        "# Creating training and validation sets using an 80-20 split\n",
        "input_tensor_train, input_tensor_val, target_tensor_train, target_tensor_val = train_test_split(input_tensor, target_tensor, test_size=0.2)\n",
        "\n",
        "# Show length\n",
        "len(input_tensor_train), len(target_tensor_train), len(input_tensor_val), len(target_tensor_val)"
      ],
      "execution_count": 9,
      "outputs": [
        {
          "output_type": "execute_result",
          "data": {
            "text/plain": [
              "(1200, 1200, 300, 300)"
            ]
          },
          "metadata": {
            "tags": []
          },
          "execution_count": 9
        }
      ]
    },
    {
      "cell_type": "code",
      "metadata": {
        "id": "YT10PgnXv93h",
        "colab_type": "code",
        "colab": {}
      },
      "source": [
        "def convert(lang, tensor):\n",
        "  for t in tensor:\n",
        "    if t!=0:\n",
        "      print (\"%d ----> %s\" % (t, lang.index_word[t]))"
      ],
      "execution_count": 0,
      "outputs": []
    },
    {
      "cell_type": "code",
      "metadata": {
        "id": "yxgFYZbbwHp7",
        "colab_type": "code",
        "outputId": "15dbbb64-398e-4522-db88-4d767f702387",
        "colab": {
          "base_uri": "https://localhost:8080/",
          "height": 1000
        }
      },
      "source": [
        "print (\"Input Language; index to word mapping\")\n",
        "convert(inp_lang, input_tensor_train[0])\n",
        "print ()\n",
        "print (\"Target Language; index to word mapping\")\n",
        "convert(targ_lang, target_tensor_train[0])"
      ],
      "execution_count": 11,
      "outputs": [
        {
          "output_type": "stream",
          "text": [
            "Input Language; index to word mapping\n",
            "4 ----> <start>\n",
            "308 ----> sejam\n",
            "22 ----> como\n",
            "4086 ----> criancinhas\n",
            "2310 ----> recem\n",
            "4087 ----> nascidas\n",
            "1 ----> ,\n",
            "2297 ----> desejando\n",
            "86 ----> sempre\n",
            "5 ----> o\n",
            "601 ----> puro\n",
            "1557 ----> leite\n",
            "1584 ----> espiritual\n",
            "1 ----> ,\n",
            "11 ----> para\n",
            "8 ----> que\n",
            "1 ----> ,\n",
            "4088 ----> bebendo\n",
            "77 ----> dele\n",
            "1 ----> ,\n",
            "27 ----> voces\n",
            "1390 ----> possam\n",
            "4089 ----> crescer\n",
            "3 ----> e\n",
            "63 ----> ser\n",
            "1770 ----> salvos\n",
            "2 ----> .\n",
            "6 ----> <end>\n",
            "\n",
            "Target Language; index to word mapping\n",
            "6 ----> <start>\n",
            "424 ----> opaa\n",
            "60 ----> ara\n",
            "91 ----> opa\n",
            "221 ----> mara\n",
            "40 ----> rei\n",
            "25 ----> ikuai\n",
            "498 ----> raa\n",
            "13 ----> re\n",
            "236 ----> ijayvua\n",
            "569 ----> eikuaa\n",
            "111 ----> pota\n",
            "71 ----> ke\n",
            "331 ----> pova\n",
            "1 ----> e\n",
            "13 ----> re\n",
            "424 ----> opaa\n",
            "60 ----> ara\n",
            "12 ----> py\n",
            "76 ----> ou\n",
            "8 ----> ra\n",
            "25 ----> ikuai\n",
            "905 ----> axya\n",
            "67 ----> ete\n",
            "18 ----> agua\n",
            "3 ----> .\n",
            "7 ----> <end>\n"
          ],
          "name": "stdout"
        }
      ]
    },
    {
      "cell_type": "code",
      "metadata": {
        "id": "c1FVHOknwNAl",
        "colab_type": "code",
        "colab": {}
      },
      "source": [
        "BUFFER_SIZE = len(input_tensor_train)\n",
        "BATCH_SIZE = 64\n",
        "steps_per_epoch = len(input_tensor_train)//BATCH_SIZE\n",
        "embedding_dim = 256\n",
        "units = 1024\n",
        "vocab_inp_size = len(inp_lang.word_index)+1\n",
        "vocab_tar_size = len(targ_lang.word_index)+1\n",
        "\n",
        "dataset = tf.data.Dataset.from_tensor_slices((input_tensor_train, target_tensor_train)).shuffle(BUFFER_SIZE)\n",
        "dataset = dataset.batch(BATCH_SIZE, drop_remainder=True)"
      ],
      "execution_count": 0,
      "outputs": []
    },
    {
      "cell_type": "code",
      "metadata": {
        "id": "m9l1GnSNdwYO",
        "colab_type": "code",
        "outputId": "dc0f664f-a3db-4e3e-a0d4-ec253a03cf8f",
        "colab": {
          "base_uri": "https://localhost:8080/",
          "height": 34
        }
      },
      "source": [
        "example_input_batch, example_target_batch = next(iter(dataset))\n",
        "example_input_batch.shape, example_target_batch.shape"
      ],
      "execution_count": 13,
      "outputs": [
        {
          "output_type": "execute_result",
          "data": {
            "text/plain": [
              "(TensorShape([64, 98]), TensorShape([64, 115]))"
            ]
          },
          "metadata": {
            "tags": []
          },
          "execution_count": 13
        }
      ]
    },
    {
      "cell_type": "markdown",
      "metadata": {
        "id": "m3OIwod9xEEK",
        "colab_type": "text"
      },
      "source": [
        "### Write the encoder and decoder model\n",
        "Implement an encoder-decoder model with attention which you can read about in the TensorFlow Neural Machine Translation (seq2seq) tutorial. This example uses a more recent set of APIs. This notebook implements the attention equations from the seq2seq tutorial. The following diagram shows that each input words is assigned a weight by the attention mechanism which is then used by the decoder to predict the next word in the sentence. The below picture and formulas are an example of attention mechanism from Luong's paper.\n",
        "\n"
      ]
    },
    {
      "cell_type": "code",
      "metadata": {
        "id": "TZXO2wefwhGE",
        "colab_type": "code",
        "colab": {}
      },
      "source": [
        "class Encoder(tf.keras.Model):\n",
        "  def __init__(self, vocab_size, embedding_dim, enc_units, batch_sz):\n",
        "    super(Encoder, self).__init__()\n",
        "    self.batch_sz = batch_sz\n",
        "    self.enc_units = enc_units\n",
        "    self.embedding = tf.keras.layers.Embedding(vocab_size, embedding_dim)\n",
        "    self.gru = tf.keras.layers.GRU(self.enc_units,\n",
        "                                   return_sequences=True,\n",
        "                                   return_state=True,\n",
        "                                   recurrent_initializer='glorot_uniform')\n",
        "\n",
        "  def call(self, x, hidden):\n",
        "    x = self.embedding(x)\n",
        "    output, state = self.gru(x, initial_state = hidden)\n",
        "    return output, state\n",
        "\n",
        "  def initialize_hidden_state(self):\n",
        "    return tf.zeros((self.batch_sz, self.enc_units))"
      ],
      "execution_count": 0,
      "outputs": []
    },
    {
      "cell_type": "code",
      "metadata": {
        "id": "Vix-Npicwj0y",
        "colab_type": "code",
        "outputId": "64f2e127-1565-47eb-ea8c-3c290e4cf364",
        "colab": {
          "base_uri": "https://localhost:8080/",
          "height": 51
        }
      },
      "source": [
        "encoder = Encoder(vocab_inp_size, embedding_dim, units, BATCH_SIZE)\n",
        "\n",
        "# sample input\n",
        "sample_hidden = encoder.initialize_hidden_state()\n",
        "sample_output, sample_hidden = encoder(example_input_batch, sample_hidden)\n",
        "print ('Encoder output shape: (batch size, sequence length, units) {}'.format(sample_output.shape))\n",
        "print ('Encoder Hidden state shape: (batch size, units) {}'.format(sample_hidden.shape))"
      ],
      "execution_count": 15,
      "outputs": [
        {
          "output_type": "stream",
          "text": [
            "Encoder output shape: (batch size, sequence length, units) (64, 98, 1024)\n",
            "Encoder Hidden state shape: (batch size, units) (64, 1024)\n"
          ],
          "name": "stdout"
        }
      ]
    },
    {
      "cell_type": "code",
      "metadata": {
        "id": "K3kemn3pwl-5",
        "colab_type": "code",
        "colab": {}
      },
      "source": [
        "class BahdanauAttention(tf.keras.Model):\n",
        "  def __init__(self, units):\n",
        "    super(BahdanauAttention, self).__init__()\n",
        "    self.W1 = tf.keras.layers.Dense(units)\n",
        "    self.W2 = tf.keras.layers.Dense(units)\n",
        "    self.V = tf.keras.layers.Dense(1)\n",
        "\n",
        "  def call(self, query, values):\n",
        "    # hidden shape == (batch_size, hidden size)\n",
        "    # hidden_with_time_axis shape == (batch_size, 1, hidden size)\n",
        "    # we are doing this to perform addition to calculate the score\n",
        "    hidden_with_time_axis = tf.expand_dims(query, 1)\n",
        "\n",
        "    # score shape == (batch_size, max_length, 1)\n",
        "    # we get 1 at the last axis because we are applying score to self.V\n",
        "    # the shape of the tensor before applying self.V is (batch_size, max_length, units)\n",
        "    score = self.V(tf.nn.tanh(\n",
        "        self.W1(values) + self.W2(hidden_with_time_axis)))\n",
        "\n",
        "    # attention_weights shape == (batch_size, max_length, 1)\n",
        "    attention_weights = tf.nn.softmax(score, axis=1)\n",
        "\n",
        "    # context_vector shape after sum == (batch_size, hidden_size)\n",
        "    context_vector = attention_weights * values\n",
        "    context_vector = tf.reduce_sum(context_vector, axis=1)\n",
        "\n",
        "    return context_vector, attention_weights"
      ],
      "execution_count": 0,
      "outputs": []
    },
    {
      "cell_type": "code",
      "metadata": {
        "id": "qKCECtVFwomN",
        "colab_type": "code",
        "outputId": "1bfa9a79-2182-4112-b3cd-b982e7a91ac4",
        "colab": {
          "base_uri": "https://localhost:8080/",
          "height": 51
        }
      },
      "source": [
        "attention_layer = BahdanauAttention(10)\n",
        "attention_result, attention_weights = attention_layer(sample_hidden, sample_output)\n",
        "\n",
        "print(\"Attention result shape: (batch size, units) {}\".format(attention_result.shape))\n",
        "print(\"Attention weights shape: (batch_size, sequence_length, 1) {}\".format(attention_weights.shape))"
      ],
      "execution_count": 17,
      "outputs": [
        {
          "output_type": "stream",
          "text": [
            "Attention result shape: (batch size, units) (64, 1024)\n",
            "Attention weights shape: (batch_size, sequence_length, 1) (64, 98, 1)\n"
          ],
          "name": "stdout"
        }
      ]
    },
    {
      "cell_type": "code",
      "metadata": {
        "id": "xFWNI9thwrbv",
        "colab_type": "code",
        "colab": {}
      },
      "source": [
        "class Decoder(tf.keras.Model):\n",
        "  def __init__(self, vocab_size, embedding_dim, dec_units, batch_sz):\n",
        "    super(Decoder, self).__init__()\n",
        "    self.batch_sz = batch_sz\n",
        "    self.dec_units = dec_units\n",
        "    self.embedding = tf.keras.layers.Embedding(vocab_size, embedding_dim)\n",
        "    self.gru = tf.keras.layers.GRU(self.dec_units,\n",
        "                                   return_sequences=True,\n",
        "                                   return_state=True,\n",
        "                                   recurrent_initializer='glorot_uniform')\n",
        "    self.fc = tf.keras.layers.Dense(vocab_size)\n",
        "\n",
        "    # used for attention\n",
        "    self.attention = BahdanauAttention(self.dec_units)\n",
        "\n",
        "  def call(self, x, hidden, enc_output):\n",
        "    # enc_output shape == (batch_size, max_length, hidden_size)\n",
        "    context_vector, attention_weights = self.attention(hidden, enc_output)\n",
        "\n",
        "    # x shape after passing through embedding == (batch_size, 1, embedding_dim)\n",
        "    x = self.embedding(x)\n",
        "\n",
        "    # x shape after concatenation == (batch_size, 1, embedding_dim + hidden_size)\n",
        "    x = tf.concat([tf.expand_dims(context_vector, 1), x], axis=-1)\n",
        "\n",
        "    # passing the concatenated vector to the GRU\n",
        "    output, state = self.gru(x)\n",
        "\n",
        "    # output shape == (batch_size * 1, hidden_size)\n",
        "    output = tf.reshape(output, (-1, output.shape[2]))\n",
        "\n",
        "    # output shape == (batch_size, vocab)\n",
        "    x = self.fc(output)\n",
        "\n",
        "    return x, state, attention_weights"
      ],
      "execution_count": 0,
      "outputs": []
    },
    {
      "cell_type": "code",
      "metadata": {
        "id": "Bsb8ngfFwv6x",
        "colab_type": "code",
        "outputId": "45aa6b48-67a1-4f31-faa6-18ffad3a6de5",
        "colab": {
          "base_uri": "https://localhost:8080/",
          "height": 34
        }
      },
      "source": [
        "decoder = Decoder(vocab_tar_size, embedding_dim, units, BATCH_SIZE)\n",
        "\n",
        "sample_decoder_output, _, _ = decoder(tf.random.uniform((64, 1)),\n",
        "                                      sample_hidden, sample_output)\n",
        "\n",
        "print ('Decoder output shape: (batch_size, vocab size) {}'.format(sample_decoder_output.shape))"
      ],
      "execution_count": 19,
      "outputs": [
        {
          "output_type": "stream",
          "text": [
            "Decoder output shape: (batch_size, vocab size) (64, 3929)\n"
          ],
          "name": "stdout"
        }
      ]
    },
    {
      "cell_type": "markdown",
      "metadata": {
        "id": "Xi6rHd8TxmKs",
        "colab_type": "text"
      },
      "source": [
        "# Define the optimizer and the loss function"
      ]
    },
    {
      "cell_type": "code",
      "metadata": {
        "id": "BbkToDK3xoQm",
        "colab_type": "code",
        "colab": {}
      },
      "source": [
        "optimizer = tf.keras.optimizers.Adam()\n",
        "loss_object = tf.keras.losses.SparseCategoricalCrossentropy(\n",
        "    from_logits=True, reduction='none')\n",
        "\n",
        "def loss_function(real, pred):\n",
        "  mask = tf.math.logical_not(tf.math.equal(real, 0))\n",
        "  loss_ = loss_object(real, pred)\n",
        "\n",
        "  mask = tf.cast(mask, dtype=loss_.dtype)\n",
        "  loss_ *= mask\n",
        "\n",
        "  return tf.reduce_mean(loss_)"
      ],
      "execution_count": 0,
      "outputs": []
    },
    {
      "cell_type": "code",
      "metadata": {
        "id": "tg90BH68e-70",
        "colab_type": "code",
        "colab": {}
      },
      "source": [
        "checkpoint_dir = './training_checkpoints'\n",
        "checkpoint_prefix = os.path.join(checkpoint_dir, \"ckpt\")\n",
        "checkpoint = tf.train.Checkpoint(optimizer=optimizer,\n",
        "                                 encoder=encoder,\n",
        "                                 decoder=decoder)"
      ],
      "execution_count": 0,
      "outputs": []
    },
    {
      "cell_type": "code",
      "metadata": {
        "id": "dDA5p8iixsnP",
        "colab_type": "code",
        "colab": {}
      },
      "source": [
        "@tf.function\n",
        "def train_step(inp, targ, enc_hidden):\n",
        "  loss = 0\n",
        "\n",
        "  with tf.GradientTape() as tape:\n",
        "    enc_output, enc_hidden = encoder(inp, enc_hidden)\n",
        "\n",
        "    dec_hidden = enc_hidden\n",
        "\n",
        "    dec_input = tf.expand_dims([targ_lang.word_index['<start>']] * BATCH_SIZE, 1)\n",
        "\n",
        "    # Teacher forcing - feeding the target as the next input\n",
        "    for t in range(1, targ.shape[1]):\n",
        "      # passing enc_output to the decoder\n",
        "      predictions, dec_hidden, _ = decoder(dec_input, dec_hidden, enc_output)\n",
        "\n",
        "      loss += loss_function(targ[:, t], predictions)\n",
        "\n",
        "      # using teacher forcing\n",
        "      dec_input = tf.expand_dims(targ[:, t], 1)\n",
        "\n",
        "  batch_loss = (loss / int(targ.shape[1]))\n",
        "\n",
        "  variables = encoder.trainable_variables + decoder.trainable_variables\n",
        "\n",
        "  gradients = tape.gradient(loss, variables)\n",
        "\n",
        "  optimizer.apply_gradients(zip(gradients, variables))\n",
        "\n",
        "  return batch_loss"
      ],
      "execution_count": 0,
      "outputs": []
    },
    {
      "cell_type": "code",
      "metadata": {
        "id": "bOCV8lvV3nzP",
        "colab_type": "code",
        "colab": {}
      },
      "source": [
        "def save_epoch_results(part_1, part_2):\n",
        "  \n",
        "  file = open('results.txt', 'a')\n",
        "  file.write(part_1 + \" \" + part_2)\n",
        "  \n",
        "  file.close()\n",
        "  "
      ],
      "execution_count": 0,
      "outputs": []
    },
    {
      "cell_type": "code",
      "metadata": {
        "id": "N6OIulopxwUj",
        "colab_type": "code",
        "outputId": "2804e772-3291-4c61-ba75-b452fd91cb46",
        "colab": {
          "base_uri": "https://localhost:8080/",
          "height": 782
        }
      },
      "source": [
        "EPOCHS = 200\n",
        "\n",
        "\n",
        "for epoch in range(EPOCHS):\n",
        "  start = time.time()\n",
        "\n",
        "  enc_hidden = encoder.initialize_hidden_state()\n",
        "  total_loss = 0\n",
        "\n",
        "  for (batch, (inp, targ)) in enumerate(dataset.take(steps_per_epoch)):\n",
        "    batch_loss = train_step(inp, targ, enc_hidden)\n",
        "    total_loss += batch_loss\n",
        "\n",
        "    if batch % 100 == 0:\n",
        "        print('Epoch {} Batch {} Loss {:.4f}'.format(epoch + 1,\n",
        "                                                     batch,\n",
        "                                                     batch_loss.numpy()))\n",
        "  # saving (checkpoint) the model every 2 epochs\n",
        "  if (epoch + 1) % 2 == 0:\n",
        "    checkpoint.save(file_prefix = checkpoint_prefix)\n",
        "\n",
        "  print('Epoch {} Loss {:.4f}'.format(epoch + 1,\n",
        "                                      total_loss / steps_per_epoch))\n",
        "  print('Time taken for 1 epoch {} sec\\n'.format(time.time() - start))\n",
        "  \n",
        "  part_1 = 'Trial {} Epoch {} Loss {:.4f}'.format(trial, epoch + 1,\n",
        "                                      total_loss / steps_per_epoch) \n",
        "  \n",
        "  part_2 = 'Time {} sec\\n'.format(time.time() - start)\n",
        "  \n",
        "  save_epoch_results(part_1, part_2)\n",
        " \n",
        " \n"
      ],
      "execution_count": 0,
      "outputs": [
        {
          "output_type": "stream",
          "text": [
            "Epoch 1 Batch 0 Loss 2.5108\n",
            "Epoch 1 Loss 1.9287\n",
            "Time taken for 1 epoch 240.081371069 sec\n",
            "\n",
            "Epoch 2 Batch 0 Loss 1.7458\n",
            "Epoch 2 Loss 1.6672\n",
            "Time taken for 1 epoch 20.823130846 sec\n",
            "\n",
            "Epoch 3 Batch 0 Loss 1.6690\n",
            "Epoch 3 Loss 1.6204\n",
            "Time taken for 1 epoch 20.3107328415 sec\n",
            "\n",
            "Epoch 4 Batch 0 Loss 1.6013\n",
            "Epoch 4 Loss 1.5461\n",
            "Time taken for 1 epoch 20.8760597706 sec\n",
            "\n",
            "Epoch 5 Batch 0 Loss 1.5239\n",
            "Epoch 5 Loss 1.4771\n",
            "Time taken for 1 epoch 20.3168010712 sec\n",
            "\n",
            "Epoch 6 Batch 0 Loss 1.4741\n",
            "Epoch 6 Loss 1.4285\n",
            "Time taken for 1 epoch 20.8111121655 sec\n",
            "\n",
            "Epoch 7 Batch 0 Loss 1.4224\n",
            "Epoch 7 Loss 1.3801\n",
            "Time taken for 1 epoch 20.3368179798 sec\n",
            "\n",
            "Epoch 8 Batch 0 Loss 1.3792\n",
            "Epoch 8 Loss 1.3386\n",
            "Time taken for 1 epoch 20.9150409698 sec\n",
            "\n",
            "Epoch 9 Batch 0 Loss 1.3376\n",
            "Epoch 9 Loss 1.3002\n",
            "Time taken for 1 epoch 20.336411953 sec\n",
            "\n",
            "Epoch 10 Batch 0 Loss 1.2979\n",
            "Epoch 10 Loss 1.2643\n",
            "Time taken for 1 epoch 20.8522460461 sec\n",
            "\n",
            "Epoch 11 Batch 0 Loss 1.2612\n",
            "Epoch 11 Loss 1.2287\n",
            "Time taken for 1 epoch 20.3560400009 sec\n",
            "\n",
            "Epoch 12 Batch 0 Loss 1.2247\n"
          ],
          "name": "stdout"
        }
      ]
    },
    {
      "cell_type": "code",
      "metadata": {
        "id": "kSfG9XHkx05n",
        "colab_type": "code",
        "colab": {}
      },
      "source": [
        "def evaluate(sentence):\n",
        "    attention_plot = np.zeros((max_length_targ, max_length_inp))\n",
        "\n",
        "    sentence = preprocess_sentence(sentence)\n",
        "\n",
        "    inputs = [inp_lang.word_index[i] for i in sentence.split(' ')]\n",
        "    inputs = tf.keras.preprocessing.sequence.pad_sequences([inputs],\n",
        "                                                           maxlen=max_length_inp,\n",
        "                                                           padding='post')\n",
        "    inputs = tf.convert_to_tensor(inputs)\n",
        "\n",
        "    result = ''\n",
        "\n",
        "    hidden = [tf.zeros((1, units))]\n",
        "    enc_out, enc_hidden = encoder(inputs, hidden)\n",
        "\n",
        "    dec_hidden = enc_hidden\n",
        "    dec_input = tf.expand_dims([targ_lang.word_index['<start>']], 0)\n",
        "\n",
        "    for t in range(max_length_targ):\n",
        "        predictions, dec_hidden, attention_weights = decoder(dec_input,\n",
        "                                                             dec_hidden,\n",
        "                                                             enc_out)\n",
        "\n",
        "        # storing the attention weights to plot later on\n",
        "        attention_weights = tf.reshape(attention_weights, (-1, ))\n",
        "        attention_plot[t] = attention_weights.numpy()\n",
        "\n",
        "        predicted_id = tf.argmax(predictions[0]).numpy()\n",
        "\n",
        "        result += targ_lang.index_word[predicted_id] + ' '\n",
        "\n",
        "        if targ_lang.index_word[predicted_id] == '<end>':\n",
        "            return result, sentence, attention_plot\n",
        "\n",
        "        # the predicted ID is fed back into the model\n",
        "        dec_input = tf.expand_dims([predicted_id], 0)\n",
        "\n",
        "    return result, sentence, attention_plot"
      ],
      "execution_count": 0,
      "outputs": []
    },
    {
      "cell_type": "code",
      "metadata": {
        "id": "e-mM6J45x3V5",
        "colab_type": "code",
        "colab": {}
      },
      "source": [
        "# function for plotting the attention weights\n",
        "def plot_attention(attention, sentence, predicted_sentence):\n",
        "    fig = plt.figure(figsize=(10,10))\n",
        "    ax = fig.add_subplot(1, 1, 1)\n",
        "    ax.matshow(attention, cmap='viridis')\n",
        "\n",
        "    fontdict = {'fontsize': 16}\n",
        "\n",
        "    ax.set_xticklabels([''] + sentence, fontdict=fontdict, rotation=90)\n",
        "    ax.set_yticklabels([''] + predicted_sentence, fontdict=fontdict)\n",
        "    path = \"/content/drive/My Drive/IA/\"\n",
        "    plt.savefig(path+\"attention.pdf\")\n",
        "    plt.show()"
      ],
      "execution_count": 0,
      "outputs": []
    },
    {
      "cell_type": "code",
      "metadata": {
        "id": "4Qqa_Agqx5lL",
        "colab_type": "code",
        "colab": {}
      },
      "source": [
        "def translate(sentence):\n",
        "    result, sentence, attention_plot = evaluate(sentence)\n",
        "\n",
        "    print('Input: %s' % (sentence))\n",
        "    print('Predicted translation: {}'.format(result))\n",
        "\n",
        "    attention_plot = attention_plot[:len(result.split(' ')), :len(sentence.split(' '))]\n",
        "    plot_attention(attention_plot, sentence.split(' '), result.split(' '))\n",
        "    \n",
        "    "
      ],
      "execution_count": 0,
      "outputs": []
    },
    {
      "cell_type": "code",
      "metadata": {
        "id": "rucHhMiU0_bN",
        "colab_type": "code",
        "colab": {}
      },
      "source": [
        "translate('\tE do céu veio uma voz, que disse.')"
      ],
      "execution_count": 0,
      "outputs": []
    },
    {
      "cell_type": "code",
      "metadata": {
        "id": "0fP8sc-RmuVI",
        "colab_type": "code",
        "colab": {}
      },
      "source": [
        "def load_test_dataset(path, train_size, test_size):\n",
        "  \n",
        "    lines = io.open(path, encoding='UTF-8').read().strip().split('\\n')\n",
        "   \n",
        "    sentences = []\n",
        "    original = []\n",
        "    for line in lines[train_size:train_size+test_size]:\n",
        "     \n",
        "      test = line.split('\\t')\n",
        "      original.append(test[0]) \n",
        "      sentences.append(test[1]) \n",
        "      \n",
        "    return original, sentences\n",
        "  "
      ],
      "execution_count": 0,
      "outputs": []
    },
    {
      "cell_type": "code",
      "metadata": {
        "id": "bLM4imtCW2jq",
        "colab_type": "code",
        "colab": {}
      },
      "source": [
        "from nltk.translate.bleu_score import sentence_bleu\n",
        "from nltk.translate.bleu_score import SmoothingFunction\n",
        "\n",
        "def bleu_accuracy(original, sentences):\n",
        "  \n",
        "  translation = []\n",
        "  for sentence in sentences:\n",
        "\n",
        "    result, sentence, attention_plot = evaluate(sentence)\n",
        "    result = result.split()\n",
        "    result.pop()\n",
        "    translation.append(result)\n",
        "\n",
        " \n",
        "  \n",
        "  references = []\n",
        "  \n",
        "  for ref in original:\n",
        "    references.append(ref.split())\n",
        "    \n",
        "  \n",
        "  scores = []\n",
        "  \n",
        " \n",
        "  smoth = SmoothingFunction()\n",
        "  for hyp, ref, weight in zip(translation, references, attention_plot):\n",
        "    \n",
        "    score = sentence_bleu([ref], hyp, smoth.method1([1]) )\n",
        "    \n",
        "    scores.append(score)\n",
        "  \n",
        "  print(scores)\n",
        "  return np.mean(score), np.var(scores, dtype=np.float64)"
      ],
      "execution_count": 0,
      "outputs": []
    },
    {
      "cell_type": "code",
      "metadata": {
        "id": "SlLPHxBLK-FA",
        "colab_type": "code",
        "colab": {}
      },
      "source": [
        "def saving_result(treino, teste, acc, var):\n",
        "  path = \"/content/drive/My Drive/IA/\"\n",
        "  file = open(path+\"test_result.txt\", 'a')\n",
        "\n",
        "  file.write('Train ' + str(treino) + '\\tTest ' + str(teste) + '\\tAcc ' + str(acc) + '\\tvar ' + str(var) + '\\n')\n",
        "\n",
        "  file.close()"
      ],
      "execution_count": 0,
      "outputs": []
    },
    {
      "cell_type": "code",
      "metadata": {
        "id": "1ZGNO7QrD2cF",
        "colab_type": "code",
        "colab": {}
      },
      "source": [
        "\n",
        "treino = len(input_tensor_train)\n",
        "teste = len(input_tensor_val)\n",
        "\n",
        "original, sentences = load_test_dataset('tu-pt.txt', treino, teste)\n",
        "bleu, var = bleu_accuracy(original, sentences)\n",
        "print(\"Media: \", bleu, \"Var: \", var)\n",
        "\n",
        "\n",
        "saving_result(treino, teste, bleu, var)\n"
      ],
      "execution_count": 0,
      "outputs": []
    }
  ]
}