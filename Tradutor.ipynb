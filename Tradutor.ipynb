{
  "nbformat": 4,
  "nbformat_minor": 0,
  "metadata": {
    "colab": {
      "name": "Tradutor.ipynb",
      "version": "0.3.2",
      "provenance": [],
      "collapsed_sections": [],
      "toc_visible": true
    },
    "kernelspec": {
      "name": "python2",
      "display_name": "Python 2"
    }
  },
  "cells": [
    {
      "cell_type": "markdown",
      "metadata": {
        "id": "rHQHiFRjz0rL",
        "colab_type": "text"
      },
      "source": [
        "## Importando os dados"
      ]
    },
    {
      "cell_type": "code",
      "metadata": {
        "id": "1UVmIIaL1uzd",
        "colab_type": "code",
        "outputId": "e7a5fb17-2af6-4c58-86ac-f673fdc85ff9",
        "colab": {
          "base_uri": "https://localhost:8080/",
          "height": 238
        }
      },
      "source": [
        "# Run this cell to mount your Google Drive.\n",
        "from google.colab import drive\n",
        "drive.mount('/content/drive/')\n",
        "!jupyter notebook --NotebookApp.iopub_data_rate_limit=1.0e10\n"
      ],
      "execution_count": 0,
      "outputs": [
        {
          "output_type": "stream",
          "text": [
            "Drive already mounted at /content/drive/; to attempt to forcibly remount, call drive.mount(\"/content/drive/\", force_remount=True).\n",
            "/usr/local/lib/python2.7/dist-packages/IPython/utils/traitlets.py:5: UserWarning: IPython.utils.traitlets has moved to a top-level traitlets package.\n",
            "  warn(\"IPython.utils.traitlets has moved to a top-level traitlets package.\")\n",
            "|INFO|google.colab serverextension initialized.\n",
            "|INFO|Serving notebooks from local directory: /content\n",
            "|INFO|0 active kernels\n",
            "|INFO|The Jupyter Notebook is running at:\n",
            "|INFO|http://localhost:8888/\n",
            "|INFO|Use Control-C to stop this server and shut down all kernels (twice to skip confirmation).\n",
            "1KooEpO7F22cnf2NsW8R5JxAlkgGV64-M#scrollTo=1UVmIIaL1uzd\n",
            "1KooEpO7F22cnf2NsW8R5JxAlkgGV64-M#scrollTo=1UVmIIaL1uzd\n",
            "|CRITICAL|received signal 2, stopping\n",
            "|INFO|Shutting down 0 kernels\n"
          ],
          "name": "stdout"
        }
      ]
    },
    {
      "cell_type": "code",
      "metadata": {
        "id": "093uU86z20i9",
        "colab_type": "code",
        "outputId": "e614c3f7-1a3c-4d6a-fac9-178117870713",
        "colab": {
          "base_uri": "https://localhost:8080/",
          "height": 51
        }
      },
      "source": [
        "## Listando os arquivos\n",
        "!ls \"/content/drive/My Drive/Projetos/IA/raw_data/\"\n",
        "## Copiando os arquivos csv\n",
        "!cp \"/content/drive/My Drive/Projetos/IA/raw_data/guarani.csv\" \"guarani.csv\"\n",
        "!cp \"/content/drive/My Drive/Projetos/IA/raw_data/pt_nvi.csv\" \"pt_nvi.csv\"\n",
        "!cp \"/content/drive/My Drive/Projetos/IA/raw_data/NTLH.csv\" \"NTLH.csv\""
      ],
      "execution_count": 0,
      "outputs": [
        {
          "output_type": "stream",
          "text": [
            "guarani.bbl.mybible.sqlite  guarani.gsheet    NTLH.csv\t  pt_nvi.json\n",
            "guarani.csv\t\t    NTLH.bbl.mybible  pt_nvi.csv\n"
          ],
          "name": "stdout"
        }
      ]
    },
    {
      "cell_type": "code",
      "metadata": {
        "id": "OtT8OErt7Nh1",
        "colab_type": "code",
        "colab": {}
      },
      "source": [
        "import pandas as pd \n",
        "import numpy as np \n",
        "\n",
        "\n",
        "guarani = pd.read_csv('guarani.csv',encoding ='utf8')\n",
        "ntlh = pd.read_csv('NTLH.csv',encoding ='utf8')\n",
        "\n",
        "raw_guarani_txt = guarani['Scripture']\n",
        "\n",
        "raw_ntlh_txt = ntlh['Scripture']\n",
        "\n"
      ],
      "execution_count": 0,
      "outputs": []
    },
    {
      "cell_type": "markdown",
      "metadata": {
        "id": "Q9J6GdPdwqRS",
        "colab_type": "text"
      },
      "source": [
        "### Preprocessando nosso texto"
      ]
    },
    {
      "cell_type": "code",
      "metadata": {
        "id": "KrYlE-fOCvcG",
        "colab_type": "code",
        "colab": {}
      },
      "source": [
        "def unicode_to_ascii(s):\n",
        "    return ''.join(c for c in unicodedata.normalize('NFD', s)\n",
        "        if unicodedata.category(c) != 'Mn')\n"
      ],
      "execution_count": 0,
      "outputs": []
    },
    {
      "cell_type": "code",
      "metadata": {
        "id": "jx_E4Vyqwpbq",
        "colab_type": "code",
        "outputId": "5dfbbda2-b81b-4784-e5ce-95ab19e904fa",
        "colab": {
          "base_uri": "https://localhost:8080/",
          "height": 85
        }
      },
      "source": [
        "import re\n",
        "from nltk.tokenize import sent_tokenize, word_tokenize\n",
        "from nltk.corpus import stopwords\n",
        "nltk.download('stopwords')\n",
        "nltk.download('punkt')\n",
        "\n",
        "def preprocess(raw_text):\n",
        "  \n",
        " \n",
        "    \n",
        "  ## Tensorflow preprocessing\n",
        "  raw_text = unicode_to_ascii(raw_text.lower().strip())\n",
        "  \n",
        "  \n",
        "  raw_text = re.sub(\"<.*?>\",\"\",raw_text)\n",
        "  \n",
        "  # creating a space between a word and the punctuation following it\n",
        "  # eg: \"he is a boy.\" => \"he is a boy .\"\n",
        "  # Reference:- https://stackoverflow.com/questions/3645931/python-padding-punctuation-with-white-spaces-keeping-punctuation\n",
        "  \n",
        "  raw_text = re.sub(r\"([?.!,¿])\", r\" \\1 \", raw_text)\n",
        "  raw_text = re.sub(r'[\" \"]+', \" \", raw_text)\n",
        "  \n",
        "  raw_text = re.sub(r\"[^a-zA-Z?.!,¿]+\", \" \", raw_text)\n",
        "  raw_text = raw_text.rstrip().strip()\n",
        "\n",
        "  # adding a start and an end token to the sentence\n",
        "  # so that the model know when to start and stop predicting.\n",
        "  text = '<start> ' + raw_text + ' <end>'\n",
        "  return text\n",
        "  \n",
        " \n"
      ],
      "execution_count": 0,
      "outputs": [
        {
          "output_type": "stream",
          "text": [
            "[nltk_data] Downloading package stopwords to /root/nltk_data...\n",
            "[nltk_data]   Package stopwords is already up-to-date!\n",
            "[nltk_data] Downloading package punkt to /root/nltk_data...\n",
            "[nltk_data]   Package punkt is already up-to-date!\n"
          ],
          "name": "stdout"
        }
      ]
    },
    {
      "cell_type": "code",
      "metadata": {
        "id": "aomcShWb3GN0",
        "colab_type": "code",
        "colab": {}
      },
      "source": [
        "guarani = []\n",
        "pt_br = []\n",
        "for text_g, text_ntlh in zip(raw_guarani_txt, raw_ntlh_txt):\n",
        "  guarani.append(preprocess(text_g).encode('utf-8'))\n",
        "  pt_br.append(preprocess(text_ntlh).encode('utf-8')) \n",
        "\n",
        "  \n",
        "\n"
      ],
      "execution_count": 0,
      "outputs": []
    },
    {
      "cell_type": "code",
      "metadata": {
        "id": "f2J9x_Mh9RR3",
        "colab_type": "code",
        "outputId": "c2c19934-b576-4eb5-b903-152c9d2d06c7",
        "colab": {
          "base_uri": "https://localhost:8080/",
          "height": 51
        }
      },
      "source": [
        "print(pt_br[0])\n",
        "print(guarani[0])"
      ],
      "execution_count": 0,
      "outputs": [
        {
          "output_type": "stream",
          "text": [
            "<start> no comeco deus criou os ceus e a terra . <end>\n",
            "<start> genesis jypy i kuaxia moises ombopara va ekueyva , yvy ha e opa mba e ikuai va e omoingoaguejypy i ma nhanderuete ojapo raka e yva ha e yvy . <end>\n"
          ],
          "name": "stdout"
        }
      ]
    },
    {
      "cell_type": "code",
      "metadata": {
        "id": "e-Lwx2GYIwob",
        "colab_type": "code",
        "colab": {}
      },
      "source": [
        "def max_length(tensor):\n",
        "    return max(len(t) for t in tensor)"
      ],
      "execution_count": 0,
      "outputs": []
    },
    {
      "cell_type": "code",
      "metadata": {
        "id": "-7cUna-HMFGe",
        "colab_type": "code",
        "colab": {}
      },
      "source": [
        "def tokenize(lang):\n",
        "  lang_tokenizer = tf.keras.preprocessing.text.Tokenizer(\n",
        "      filters='')\n",
        "  lang_tokenizer.fit_on_texts(lang)\n",
        "\n",
        "  tensor = lang_tokenizer.texts_to_sequences(lang)\n",
        "\n",
        "  tensor = tf.keras.preprocessing.sequence.pad_sequences(tensor,\n",
        "                                                         padding='post')\n",
        "\n",
        "  return tensor, lang_tokenizer"
      ],
      "execution_count": 0,
      "outputs": []
    },
    {
      "cell_type": "markdown",
      "metadata": {
        "id": "z0OS9cZDB0Yc",
        "colab_type": "text"
      },
      "source": [
        "### Usando a classificação com o tensorflow"
      ]
    },
    {
      "cell_type": "code",
      "metadata": {
        "id": "mlf1OXPUB6-u",
        "colab_type": "code",
        "colab": {}
      },
      "source": [
        "from __future__ import absolute_import, division, print_function, unicode_literals\n",
        "\n",
        "!pip install -q tensorflow-gpu==2.0.0-beta1\n",
        "import tensorflow as tf\n",
        "\n",
        "import matplotlib.pyplot as plt\n",
        "from sklearn.model_selection import train_test_split\n",
        "\n",
        "import unicodedata\n",
        "import re\n",
        "import numpy as np\n",
        "import os\n",
        "import io\n",
        "import time"
      ],
      "execution_count": 0,
      "outputs": []
    }
  ]
}